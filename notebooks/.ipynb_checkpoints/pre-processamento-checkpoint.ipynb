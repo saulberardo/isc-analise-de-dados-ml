{
 "cells": [
  {
   "cell_type": "markdown",
   "metadata": {
    "collapsed": true
   },
   "source": [
    "# Preparação de dados textuais para aplicações de NLP\n",
    "\n"
   ]
  },
  {
   "cell_type": "markdown",
   "metadata": {},
   "source": [
    "Bem-vindo ao primeiro notebook de nosso curso! Neste notebook, vamos implementar as etapas mais comuns de pré-processamento em dados textuais para aplicações em NLP.\n",
    "\n"
   ]
  },
  {
   "cell_type": "markdown",
   "metadata": {},
   "source": [
    "## Carregando os dados\n",
    "\n",
    "Os dados que serão utilizados em nossos experimentos estão armazenados na pasta <i>isc-analise-de-dados-ml/dados</i>. Para obter uma referência a ela, indicaremos seu caminho a partir do diretório deste notebook.\n",
    "\n",
    "Esta estratégia de armazenar os dados e os scripts (neste caso, notebook) em diretórios separados é muito comum para estruturar projetos de análise de dados. As funções disponíveis no pacote `os` e `os.path` são muito úteis para manipulação de nomes de arquivos e diretórios de forma independente de sistema operacional."
   ]
  },
  {
   "cell_type": "code",
   "execution_count": null,
   "metadata": {},
   "outputs": [],
   "source": [
    "import os\n",
    "import pandas as pd\n",
    "\n",
    "# Diretório deste notebook\n",
    "diretorio_notebook = os.getcwd()\n",
    "\n",
    "# Diretório onde estão armazenados os dados\n",
    "diretorio_dados = os.path.join(diretorio_notebook, os.path.pardir, 'dados')\n",
    "\n",
    "# Arquivos com os dados de treino do Imdb\n",
    "arquivo_imdb_treino = os.path.join(diretorio_dados, os.path.pardir, 'dados', 'imdb', 'treino.xlsx')\n",
    "\n",
    "# Carrega arquivo do Excel em um data frame\n",
    "df_treino = pd.read_excel(arquivo_imdb_treino)\n",
    "\n",
    "# Imprime primeiras linhas do dataframe com os dados de treino\n",
    "df_treino.head()"
   ]
  },
  {
   "cell_type": "markdown",
   "metadata": {},
   "source": [
    "Após carregar os dados com o Pandas, iremos criar uma lista com os textos de cada review."
   ]
  },
  {
   "cell_type": "code",
   "execution_count": null,
   "metadata": {},
   "outputs": [],
   "source": [
    "# Obtém lista de strings a partir \n",
    "textos = df_treino.texto.values\n",
    "\n",
    "# Visualiza o primeiro item da lista\n",
    "textos[0]"
   ]
  },
  {
   "cell_type": "markdown",
   "metadata": {},
   "source": [
    "## Normalização do texto\n",
    "\n",
    "Sua primeira tarefa será completar a função abaixo para que ela retorne os textos normalizados. Não há uma definição única de normalização, portanto sugerimos realizar as seguintes tarefas: remover pontuação, remover números, converter todas as letras em minúsculas, substituir os caracteres - (hífen) e / (barra) por espaços. Para muitos problemas reais, esta é uma boa primeira aproximação. Em projetos reais, recomenda-se implementar uma versão inicial do modelo preditivo tão simples o quanto possível e aos poucos melhorá-la iterativamente.\n"
   ]
  },
  {
   "cell_type": "code",
   "execution_count": null,
   "metadata": {},
   "outputs": [],
   "source": [
    "def normaliza_texto(textos):\n",
    "    \"\"\"\n",
    "    Retorna lista de textos normalizados.\n",
    "    \"\"\"\n",
    "    # Lista onde os textos normalizados serão salvos\n",
    "    textos_normalizados = []\n",
    "    \n",
    "    # Para cada texto\n",
    "    for texto in textos:\n",
    "        \n",
    "        # Realizar as transformações aqui (não precisa ser em uma linha!)\n",
    "        # texto_normalizado = \n",
    "        # ...\n",
    "        \n",
    "        textos_normalizados.append(texto_normalizado)\n",
    "        \n",
    "    # Retorna textos normalizados\n",
    "    return textos_normalizados\n",
    "\n",
    "# Testa função com o primeiro texto do dataset de treino\n",
    "normaliza_texto(textos[0])"
   ]
  },
  {
   "cell_type": "markdown",
   "metadata": {},
   "source": [
    "## Remoção de stop words\n",
    "\n",
    "Stop words são palavras muito comuns que, portanto, adicionam pouca informação ao texto, a exemplo de artigos, preposições, pronomes, advérvios, verbos auxiliares, etc. Neste notebook, utilizaremos a lista disponibilizada pela biblioteca NLTK (Natural Language Tool Kit), que fornece vários funções para execução de tarefas de NLP, assim como vários corpora (corpus = conjunto de textos).\n",
    "\n",
    "Abaixo, realizamos o download das listas de stopwrods, um dos corpora disponíveis no NLTK:"
   ]
  },
  {
   "cell_type": "code",
   "execution_count": 8,
   "metadata": {},
   "outputs": [
    {
     "name": "stdout",
     "output_type": "stream",
     "text": [
      "[nltk_data] Downloading package stopwords to\n",
      "[nltk_data]     C:\\Users\\saul\\AppData\\Roaming\\nltk_data...\n",
      "[nltk_data]   Package stopwords is already up-to-date!\n"
     ]
    }
   ],
   "source": [
    "import nltk\n",
    "\n",
    "# Realiza o download do corpus de stopwords (de vários idiomas, dentro os quais inglês e português)\n",
    "nltk.download('stopwords')\n",
    "\n",
    "# Obtém lista de stop words\n",
    "stopwords = nltk.corpus.stopwords.words('english') # Em português, trocar para 'portuguese'"
   ]
  },
  {
   "cell_type": "code",
   "execution_count": 7,
   "metadata": {},
   "outputs": [
    {
     "name": "stdout",
     "output_type": "stream",
     "text": [
      "['i', 'me', 'my', 'myself', 'we', 'our', 'ours', 'ourselves', 'you', \"you're\", \"you've\", \"you'll\", \"you'd\", 'your', 'yours', 'yourself', 'yourselves', 'he', 'him', 'his', 'himself', 'she', \"she's\", 'her', 'hers', 'herself', 'it', \"it's\", 'its', 'itself', 'they', 'them', 'their', 'theirs', 'themselves', 'what', 'which', 'who', 'whom', 'this', 'that', \"that'll\", 'these', 'those', 'am', 'is', 'are', 'was', 'were', 'be', 'been', 'being', 'have', 'has', 'had', 'having', 'do', 'does', 'did', 'doing', 'a', 'an', 'the', 'and', 'but', 'if', 'or', 'because', 'as', 'until', 'while', 'of', 'at', 'by', 'for', 'with', 'about', 'against', 'between', 'into', 'through', 'during', 'before', 'after', 'above', 'below', 'to', 'from', 'up', 'down', 'in', 'out', 'on', 'off', 'over', 'under', 'again', 'further', 'then', 'once', 'here', 'there', 'when', 'where', 'why', 'how', 'all', 'any', 'both', 'each', 'few', 'more', 'most', 'other', 'some', 'such', 'no', 'nor', 'not', 'only', 'own', 'same', 'so', 'than', 'too', 'very', 's', 't', 'can', 'will', 'just', 'don', \"don't\", 'should', \"should've\", 'now', 'd', 'll', 'm', 'o', 're', 've', 'y', 'ain', 'aren', \"aren't\", 'couldn', \"couldn't\", 'didn', \"didn't\", 'doesn', \"doesn't\", 'hadn', \"hadn't\", 'hasn', \"hasn't\", 'haven', \"haven't\", 'isn', \"isn't\", 'ma', 'mightn', \"mightn't\", 'mustn', \"mustn't\", 'needn', \"needn't\", 'shan', \"shan't\", 'shouldn', \"shouldn't\", 'wasn', \"wasn't\", 'weren', \"weren't\", 'won', \"won't\", 'wouldn', \"wouldn't\"]\n"
     ]
    }
   ],
   "source": [
    "# Imprime lista de stopwords\n",
    "print(stopwords)"
   ]
  },
  {
   "cell_type": "markdown",
   "metadata": {},
   "source": [
    "Agora é sua vez! Complete a função abaixo, que, assim como a anterior, recebe uma lista de textos e retorna uma lista de textos com stopwords removidas. "
   ]
  },
  {
   "cell_type": "code",
   "execution_count": null,
   "metadata": {},
   "outputs": [],
   "source": [
    "def remove_stopwords(textos):\n",
    "    \"\"\"\n",
    "    Retorna lista de textos sem as palavras comuns ('stopwords').\n",
    "    \"\"\"\n",
    "    \n",
    "    # Obtém lista de palavras comuns\n",
    "    stopwords = nltk.corpus.stopwords.words('english')\n",
    "    \n",
    "    # Remover as stopwords aqui \n",
    "    # Desafio! Você consegue remover tudo em uma única linha utilizando list comprehension?\n",
    "    # ...\n",
    "    \n",
    "    # Retorna textos sem stopwords\n",
    "    return textos_sem_stopwords"
   ]
  },
  {
   "cell_type": "markdown",
   "metadata": {},
   "source": [
    "## \"Stemização\" (<i>stemming</i>)"
   ]
  },
  {
   "cell_type": "markdown",
   "metadata": {},
   "source": [
    "A stemização é um procedimento comum de pré-processamento, que consiste em remover os sufixos. Assim, obtemos somente o radical das palavras, que é a parte da palavra carrega a parte mais importante do seu significado.\n",
    "\n",
    "Na maior parte das tarefas de NLP, os métodos \"baseados em regras\", que eram muito comuns até poucoss anos atrás, deram lugar a métodos estatísticos. A \"stemização\" é uma das poucas tarefas que o método predocuminante ainda é baseado em regras.\n",
    "\n",
    "Em inglês, os stemmers mais utilizados são o Porter e o Snowball. Em português, o mais utilizado é o RSLP (Removedor de Sufixos da Lingua Portuguesa), que é composto por 8 regras, detalhadas no artigo do link:\n",
    "http://www.inf.ufrgs.br/~viviane/rslp/.\n",
    "\n",
    "Para utilizar o RSLP, é necessário instalá-lo, similarmente ao que foi feito com o corpora de stopwords."
   ]
  },
  {
   "cell_type": "code",
   "execution_count": 18,
   "metadata": {},
   "outputs": [
    {
     "name": "stdout",
     "output_type": "stream",
     "text": [
      "[nltk_data] Downloading package rslp to\n",
      "[nltk_data]     C:\\Users\\saul\\AppData\\Roaming\\nltk_data...\n",
      "[nltk_data]   Package rslp is already up-to-date!\n"
     ]
    },
    {
     "data": {
      "text/plain": [
       "True"
      ]
     },
     "execution_count": 18,
     "metadata": {},
     "output_type": "execute_result"
    }
   ],
   "source": [
    "# Download do RSLP\n",
    "nltk.download('rslp')"
   ]
  },
  {
   "cell_type": "code",
   "execution_count": 19,
   "metadata": {},
   "outputs": [
    {
     "data": {
      "text/plain": [
       "'stemiz'"
      ]
     },
     "execution_count": 19,
     "metadata": {},
     "output_type": "execute_result"
    }
   ],
   "source": [
    "# Exemplo de uso\n",
    "stemmer = nltk.stem.RSLPStemmer()\n",
    "stemmer.stem('stemização') # Repare que o algoritmo funciona mesmo com neologismos!"
   ]
  },
  {
   "cell_type": "markdown",
   "metadata": {},
   "source": [
    "O NLTK já disponibiliza instalado por padrão o Porter Stemmer. Para utilizá-lo, basta instanciar a classe correta.\n",
    "\n",
    "Agora é com você! Complete a função abaixo para que retorne os textos \"stamizados\", similarmente às tarefas anteriores. "
   ]
  },
  {
   "cell_type": "code",
   "execution_count": 14,
   "metadata": {},
   "outputs": [
    {
     "data": {
      "text/plain": [
       "'when the snows fall and the white winds blow, the lone wolf dies but the pack surv'"
      ]
     },
     "execution_count": 14,
     "metadata": {},
     "output_type": "execute_result"
    }
   ],
   "source": [
    "def stemiza(textos):\n",
    "    \"\"\"\n",
    "    Retorna lista de textos com as palavras 'stemizadas'.    \n",
    "    \"\"\"\n",
    "    \n",
    "    #\n",
    "    # It's up to you now\n",
    "    #\n",
    "    \n",
    "    return textos_stemizados\n",
    "\n",
    "# Instancia o \"Stemizador\" Porter\n",
    "stemmer = nltk.stem.PorterStemmer()\n",
    "\n"
   ]
  },
  {
   "cell_type": "code",
   "execution_count": null,
   "metadata": {},
   "outputs": [],
   "source": []
  }
 ],
 "metadata": {
  "kernelspec": {
   "display_name": "Python 3",
   "language": "python",
   "name": "python3"
  },
  "language_info": {
   "codemirror_mode": {
    "name": "ipython",
    "version": 3
   },
   "file_extension": ".py",
   "mimetype": "text/x-python",
   "name": "python",
   "nbconvert_exporter": "python",
   "pygments_lexer": "ipython3",
   "version": "3.6.1"
  }
 },
 "nbformat": 4,
 "nbformat_minor": 1
}
